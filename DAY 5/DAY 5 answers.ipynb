{
 "cells": [
  {
   "cell_type": "markdown",
   "metadata": {},
   "source": [
    "# Question1 Non-even prime natural numbers:"
   ]
  },
  {
   "cell_type": "code",
   "execution_count": 1,
   "metadata": {},
   "outputs": [
    {
     "name": "stdout",
     "output_type": "stream",
     "text": [
      "100\n",
      "3 5 7 11 13 17 19 23 29 31 37 41 43 47 53 59 61 67 71 73 "
     ]
    }
   ],
   "source": [
    "a=int(input())\n",
    "list1=[]\n",
    "list2=[]\n",
    "for i in range(1,a):\n",
    "    if i>1:\n",
    "        for j in range(2,i):\n",
    "            if i%j==0:\n",
    "                break\n",
    "        else:\n",
    "            list1.append(i)\n",
    "for x in range(1, 21):\n",
    "    print(list1[x],end=\" \")\n",
    "\n"
   ]
  },
  {
   "cell_type": "markdown",
   "metadata": {},
   "source": [
    "# Question2 15 string functions:"
   ]
  },
  {
   "cell_type": "code",
   "execution_count": 3,
   "metadata": {},
   "outputs": [
    {
     "name": "stdout",
     "output_type": "stream",
     "text": [
      "Enter a string: Lets Upgrade\n",
      "the string functions are:\n",
      "ets Upgrade\n",
      "edargpU steL \n",
      "gra\n",
      "Lets Upgrade\n",
      " lets upgrade\n",
      " Lrts Upgradr\n",
      "[' Lets Upgrade']\n",
      "False\n",
      "False\n",
      "False\n",
      "2\n",
      "2\n",
      "-1\n",
      " LETS UPGRADE\n",
      " lets upgrade\n"
     ]
    }
   ],
   "source": [
    "a=input(\"Enter a string:\")\n",
    "b=a[2:]\n",
    "c=a[::-1]\n",
    "d=b[-5:-2]\n",
    "e=a.strip()\n",
    "g=a.upper()\n",
    "h=a.lower()\n",
    "i=a.replace(\"e\",\"r\")\n",
    "j=a.split(\",\")\n",
    "k=a.isalpha()\n",
    "l=a.isdigit()\n",
    "m=a.isalnum()\n",
    "n=a.index(\"e\")\n",
    "o=a.count(\"e\")\n",
    "p=a.find(\"upgrade\")\n",
    "q=a.upper()\n",
    "r=a.lower()\n",
    "print(\"the string functions are:\")\n",
    "print(b)\n",
    "print(c)\n",
    "print(d)\n",
    "print(e)\n",
    "print(h)\n",
    "print(i)\n",
    "print(j)\n",
    "print(k)\n",
    "print(l)\n",
    "print(m)\n",
    "print(n)\n",
    "print(o)\n",
    "print(p)\n",
    "print(q)\n",
    "print(r)\n",
    "\n"
   ]
  },
  {
   "cell_type": "markdown",
   "metadata": {},
   "source": [
    "# Question3 Palindrome or anagram or none"
   ]
  },
  {
   "cell_type": "code",
   "execution_count": 6,
   "metadata": {},
   "outputs": [
    {
     "name": "stdout",
     "output_type": "stream",
     "text": [
      "dad\n",
      "tab\n",
      "Palindrome\n"
     ]
    }
   ],
   "source": [
    "n = input(\"Enter string 1:\")\n",
    "m = input(\"Enter string 2:\")\n",
    "\n",
    "pal = list(n)\n",
    "pal.reverse()\n",
    "\n",
    "if n==n[::-1]:\n",
    "    print(\"Palindrome\")\n",
    "elif sorted(n) == sorted(m):\n",
    "    print(\"Anagram\")\n",
    "else:\n",
    "    print(\"none\")"
   ]
  },
  {
   "cell_type": "code",
   "execution_count": 7,
   "metadata": {},
   "outputs": [
    {
     "name": "stdout",
     "output_type": "stream",
     "text": [
      "Enter string:DR.Darshan Ingle@AI-ML Trainer\n",
      "drdarshaningleaimltrainer"
     ]
    }
   ],
   "source": [
    "n = input(\"Enter string:\")\n",
    "for i in n:\n",
    "    if i.isalpha():\n",
    "        c=i.lower()\n",
    "        print(\"\".join(c),end=\"\")"
   ]
  },
  {
   "cell_type": "code",
   "execution_count": null,
   "metadata": {},
   "outputs": [],
   "source": []
  }
 ],
 "metadata": {
  "kernelspec": {
   "display_name": "Python 3",
   "language": "python",
   "name": "python3"
  },
  "language_info": {
   "codemirror_mode": {
    "name": "ipython",
    "version": 3
   },
   "file_extension": ".py",
   "mimetype": "text/x-python",
   "name": "python",
   "nbconvert_exporter": "python",
   "pygments_lexer": "ipython3",
   "version": "3.7.4"
  }
 },
 "nbformat": 4,
 "nbformat_minor": 2
}
