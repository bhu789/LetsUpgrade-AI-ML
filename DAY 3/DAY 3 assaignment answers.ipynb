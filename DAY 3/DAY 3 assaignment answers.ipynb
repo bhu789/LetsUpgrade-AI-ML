{
 "cells": [
  {
   "cell_type": "markdown",
   "metadata": {},
   "source": [
    "# Question 1:"
   ]
  },
  {
   "cell_type": "markdown",
   "metadata": {},
   "source": [
    "__Program to subract two complex numbers in Python__"
   ]
  },
  {
   "cell_type": "code",
   "execution_count": 16,
   "metadata": {},
   "outputs": [
    {
     "name": "stdout",
     "output_type": "stream",
     "text": [
      "Subtraction of two complex number= (-1+1j)\n"
     ]
    }
   ],
   "source": [
    "complexno1 = 2+7j\n",
    "complexno2 = 3+6j\n",
    "print('Subtraction of two complex number=', complexno1 - complexno2)\n",
    "\n"
   ]
  },
  {
   "cell_type": "code",
   "execution_count": 21,
   "metadata": {},
   "outputs": [
    {
     "name": "stdout",
     "output_type": "stream",
     "text": [
      "Subtraction of two complex number= (-9+9j)\n"
     ]
    }
   ],
   "source": [
    "complexno1 = complex(23,23)\n",
    "complexno2 =complex(32,14)\n",
    "print('Subtraction of two complex number=', complexno1 - complexno2)\n",
    "\n"
   ]
  },
  {
   "cell_type": "markdown",
   "metadata": {},
   "source": [
    "# Question 2:"
   ]
  },
  {
   "cell_type": "markdown",
   "metadata": {},
   "source": [
    "__Program to find fourth root of a number__"
   ]
  },
  {
   "cell_type": "code",
   "execution_count": 14,
   "metadata": {},
   "outputs": [
    {
     "name": "stdout",
     "output_type": "stream",
     "text": [
      "23\n",
      "fourth root of a number= 2.189938703094842\n"
     ]
    }
   ],
   "source": [
    "num = int(input())\n",
    "num_sqrt = num ** 0.25\n",
    "print(\"fourth root of a number=\",num_sqrt)\n",
    "\n"
   ]
  },
  {
   "cell_type": "markdown",
   "metadata": {},
   "source": [
    "# Question 3:"
   ]
  },
  {
   "cell_type": "markdown",
   "metadata": {},
   "source": [
    "__Program to swap two variables using temp variable__"
   ]
  },
  {
   "cell_type": "code",
   "execution_count": 26,
   "metadata": {},
   "outputs": [
    {
     "name": "stdout",
     "output_type": "stream",
     "text": [
      "12\n",
      "32\n",
      "after swaping 32\n",
      "after swaping 12\n"
     ]
    }
   ],
   "source": [
    "a=int(input())\n",
    "b=int(input())\n",
    "temp=0\n",
    "temp=a\n",
    "a=b\n",
    "b=temp\n",
    "print(\"after swaping\",a)\n",
    "print(\"after swaping\",b)"
   ]
  },
  {
   "cell_type": "markdown",
   "metadata": {},
   "source": [
    "# Question 4:"
   ]
  },
  {
   "cell_type": "markdown",
   "metadata": {},
   "source": [
    "__Program to swap two variables without using temp variable__"
   ]
  },
  {
   "cell_type": "code",
   "execution_count": 27,
   "metadata": {},
   "outputs": [
    {
     "name": "stdout",
     "output_type": "stream",
     "text": [
      "Enter the first number:12\n",
      "Enter the second number:32\n",
      "After swaping: 32\n",
      "After Swaping: 12\n"
     ]
    }
   ],
   "source": [
    "a=input(\"Enter the first number:\",)\n",
    "b=input(\"Enter the second number:\",)\n",
    "a,b=b,a\n",
    "print(\"After swaping:\",a)\n",
    "print(\"After Swaping:\",b)"
   ]
  },
  {
   "cell_type": "markdown",
   "metadata": {},
   "source": [
    "# Question 5:"
   ]
  },
  {
   "cell_type": "markdown",
   "metadata": {},
   "source": [
    "__Program to convert fahrenheit to kelvin__"
   ]
  },
  {
   "cell_type": "code",
   "execution_count": 28,
   "metadata": {},
   "outputs": [
    {
     "name": "stdout",
     "output_type": "stream",
     "text": [
      "24\n",
      "fahrenheit to kelvin= 269.05555555555554\n"
     ]
    }
   ],
   "source": [
    "F=int(input())\n",
    "K = 273.5 + ((F - 32.0) * (5.0/9.0))\n",
    "print(\"fahrenheit to kelvin=\",K)"
   ]
  },
  {
   "cell_type": "markdown",
   "metadata": {},
   "source": [
    "__Program to convert fahrenheit to Celsius__"
   ]
  },
  {
   "cell_type": "code",
   "execution_count": 31,
   "metadata": {},
   "outputs": [
    {
     "name": "stdout",
     "output_type": "stream",
     "text": [
      "43\n",
      "fahrenheit to Celsius= 6.111111111111111\n"
     ]
    }
   ],
   "source": [
    "F=int(input())\n",
    "C=(F - 32) * 5/9\n",
    "print(\"fahrenheit to Celsius=\",C)"
   ]
  },
  {
   "cell_type": "markdown",
   "metadata": {},
   "source": [
    "# Question 6:"
   ]
  },
  {
   "cell_type": "markdown",
   "metadata": {},
   "source": [
    "__Data types__"
   ]
  },
  {
   "cell_type": "code",
   "execution_count": 39,
   "metadata": {},
   "outputs": [
    {
     "name": "stdout",
     "output_type": "stream",
     "text": [
      "12\n",
      "<class 'int'>\n",
      "12.00\n",
      "<class 'float'>\n",
      "twelve\n",
      "<class 'str'>\n",
      "<class 'complex'>\n",
      "12 12 12\n",
      "<class 'tuple'>\n",
      "<class 'dict'>\n",
      "<class 'set'>\n",
      "<class 'bool'>\n",
      "12 12\n",
      "<class 'list'>\n"
     ]
    }
   ],
   "source": [
    "a=int(input())\n",
    "print(type(a))\n",
    "b=float(input())\n",
    "print(type(b))\n",
    "d=str(input())\n",
    "print(type(d))\n",
    "c=complex(2,3)\n",
    "print(type(c))\n",
    "e=tuple(input())\n",
    "print(type(e))\n",
    "f={\"hello\":1}\n",
    "print(type(f))\n",
    "g={1,2,2,1}\n",
    "print(type(g))\n",
    "h=bool(1)\n",
    "print(type(h))\n",
    "i=list(input())\n",
    "print(type(i))\n"
   ]
  },
  {
   "cell_type": "markdown",
   "metadata": {},
   "source": [
    "# Question 7:\n"
   ]
  },
  {
   "cell_type": "markdown",
   "metadata": {},
   "source": [
    "__Steps to upload assaignments in github__"
   ]
  },
  {
   "cell_type": "markdown",
   "metadata": {},
   "source": [
    "Step1: login Github\n",
    "\n",
    "\n",
    "\n",
    "\n"
   ]
  },
  {
   "cell_type": "markdown",
   "metadata": {},
   "source": [
    "Step2: click new to create a new repository"
   ]
  },
  {
   "cell_type": "markdown",
   "metadata": {},
   "source": [
    "step3: type the repository name given and finish by making acessable public "
   ]
  },
  {
   "cell_type": "markdown",
   "metadata": {},
   "source": [
    "step4: save the assaignments in DAY 3 folder"
   ]
  },
  {
   "cell_type": "markdown",
   "metadata": {},
   "source": [
    "step5: drag the folder to the new repository"
   ]
  },
  {
   "cell_type": "markdown",
   "metadata": {},
   "source": [
    "step6: click commit changes and copy url of the file in DAY 3 "
   ]
  },
  {
   "cell_type": "markdown",
   "metadata": {},
   "source": [
    "Step7: paste it in google form"
   ]
  }
 ],
 "metadata": {
  "kernelspec": {
   "display_name": "Python 3",
   "language": "python",
   "name": "python3"
  },
  "language_info": {
   "codemirror_mode": {
    "name": "ipython",
    "version": 3
   },
   "file_extension": ".py",
   "mimetype": "text/x-python",
   "name": "python",
   "nbconvert_exporter": "python",
   "pygments_lexer": "ipython3",
   "version": "3.7.4"
  }
 },
 "nbformat": 4,
 "nbformat_minor": 2
}
