{
 "cells": [
  {
   "cell_type": "markdown",
   "metadata": {},
   "source": [
    "# Question1 complex number operations"
   ]
  },
  {
   "cell_type": "code",
   "execution_count": 4,
   "metadata": {},
   "outputs": [
    {
     "name": "stdout",
     "output_type": "stream",
     "text": [
      "the following operations are:\n",
      "Addition (26+7j)\n",
      "Subtraction (16+3j)\n",
      "division (3.9655172413793105-0.5862068965517242j)\n",
      "multiplication (95+67j)\n"
     ]
    }
   ],
   "source": [
    "a=(21+5j)\n",
    "b=(5+2j)\n",
    "c=a+b\n",
    "d=a-b\n",
    "g=a*b\n",
    "e=a/b\n",
    "#f=a%b\n",
    "print(\"the following operations are:\")\n",
    "print(\"Addition\",c)\n",
    "print(\"Subtraction\",d)\n",
    "print(\"division\",e)\n",
    "#print(\"floor division\",f)\n",
    "print(\"multiplication\",g)"
   ]
  },
  {
   "cell_type": "markdown",
   "metadata": {},
   "source": [
    "# Question 2 Range function"
   ]
  },
  {
   "cell_type": "markdown",
   "metadata": {},
   "source": [
    "the range(): function returns a sequence of numbers, starting from 0 by default, and increments by 1 (by default), and stops before a specified number.\n"
   ]
  },
  {
   "cell_type": "code",
   "execution_count": 6,
   "metadata": {},
   "outputs": [
    {
     "name": "stdout",
     "output_type": "stream",
     "text": [
      "1\n",
      "2\n",
      "3\n",
      "4\n",
      "5\n"
     ]
    }
   ],
   "source": [
    "x = range(1, 6)\n",
    "for n in x:\n",
    "    print(n)"
   ]
  },
  {
   "cell_type": "markdown",
   "metadata": {},
   "source": [
    "# Question 3 result multiplication if number1 -number2>25 else divide"
   ]
  },
  {
   "cell_type": "code",
   "execution_count": 9,
   "metadata": {},
   "outputs": [
    {
     "name": "stdout",
     "output_type": "stream",
     "text": [
      "enter the number:10\n",
      "enter the second number:2\n",
      "5\n"
     ]
    }
   ],
   "source": [
    "a=input(\"enter the number:\")\n",
    "b=input(\"enter the second number:\")\n",
    "a=int(a)\n",
    "b=int(b)\n",
    "c=a-b\n",
    "print(a*b if c>25 else a//b)"
   ]
  },
  {
   "cell_type": "markdown",
   "metadata": {},
   "source": [
    "# Question4 \"square of that number minus 2\""
   ]
  },
  {
   "cell_type": "code",
   "execution_count": 12,
   "metadata": {},
   "outputs": [
    {
     "name": "stdout",
     "output_type": "stream",
     "text": [
      "square of the 34 1154\n",
      "square of the 54 2914\n",
      "square of the 26 674\n",
      "square of the 12 142\n",
      "square of the 34 1154\n",
      "square of the 24 574\n",
      "square of the 54 2914\n"
     ]
    }
   ],
   "source": [
    "list1=[23,34,54,26,12,34,24,54,11,65]\n",
    "for i in list1:\n",
    "    if i%2==0:\n",
    "        print(\"square of the {}\".format(i),str((i**2)-2))\n"
   ]
  },
  {
   "cell_type": "markdown",
   "metadata": {},
   "source": [
    "# Question 5 print all elements in list if >7 when element is divided by 2"
   ]
  },
  {
   "cell_type": "code",
   "execution_count": 16,
   "metadata": {},
   "outputs": [
    {
     "name": "stdout",
     "output_type": "stream",
     "text": [
      "34\n",
      "54\n"
     ]
    }
   ],
   "source": [
    "a=[12,11,10,43,13,10,9,65,34,54]\n",
    "for i in a:\n",
    "    if i%2==0 and(i//2)>7:\n",
    "        print(i)"
   ]
  },
  {
   "cell_type": "code",
   "execution_count": null,
   "metadata": {},
   "outputs": [],
   "source": []
  }
 ],
 "metadata": {
  "kernelspec": {
   "display_name": "Python 3",
   "language": "python",
   "name": "python3"
  },
  "language_info": {
   "codemirror_mode": {
    "name": "ipython",
    "version": 3
   },
   "file_extension": ".py",
   "mimetype": "text/x-python",
   "name": "python",
   "nbconvert_exporter": "python",
   "pygments_lexer": "ipython3",
   "version": "3.7.4"
  }
 },
 "nbformat": 4,
 "nbformat_minor": 2
}
